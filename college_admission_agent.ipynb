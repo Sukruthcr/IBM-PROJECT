{
 "cells": [
  {
   "cell_type": "markdown",
   "metadata": {},
   "source": [
    "# College Admission Agent – IBM Watsonx.ai\n",
    "\n",
    "This Jupyter Notebook demonstrates how to connect to IBM Watsonx.ai Granite model to answer college admission-related questions.\n",
    "\n",
    "## Steps:\n",
    "1. Set up API key and endpoint\n",
    "2. Send a query to the Granite model\n",
    "3. Display the AI's response\n"
   ]
  },
  {
   "cell_type": "code",
   "execution_count": null,
   "metadata": {},
   "outputs": [],
   "source": [
    "import requests\n",
    "\n",
    "# ====== CONFIGURATION ======\n",
    "API_KEY = \"EwzqMSW7LuN95ZoN4zwRHvXSIxP-1FlZ2EY_5bnkZkrR\n",
    "\n",
    "\"  \n",
    "WATSONX_URL = \"https://au-syd.ml.cloud.ibm.com\"  # Change if using another region\n",
    "MODEL_ID = \"granite-3-3-8b-instruct\"\n",
    "\n",
    "# ====== FUNCTION TO GET ACCESS TOKEN ======\n",
    "def get_access_token(api_key):\n",
    "    url = \"https://iam.cloud.ibm.com/identity/token\"\n",
    "    headers = {\"Content-Type\": \"application/x-www-form-urlencoded\"}\n",
    "    data = {\"apikey\": api_key, \"grant_type\": \"urn:ibm:params:oauth:grant-type:apikey\"}\n",
    "    response = requests.post(url, headers=headers, data=data)\n",
    "    return response.json().get(\"access_token\")\n",
    "\n",
    "ACCESS_TOKEN = get_access_token(API_KEY)\n",
    "print(\"✅ Access token retrieved successfully!\")"
   ]
  },
  {
   "cell_type": "code",
   "execution_count": null,
   "metadata": {},
   "outputs": [],
   "source": [
    "# ====== FUNCTION TO ASK THE AI MODEL ======\n",
    "def ask_college_agent(user_query):\n",
    "    url = f\"{WATSONX_URL}/ml/v1/text/generation?version=2023-05-29\"\n",
    "    headers = {\n",
    "        \"Authorization\": f\"Bearer {ACCESS_TOKEN}\",\n",
    "        \"Content-Type\": \"application/json\"\n",
    "    }\n",
    "    payload = {\n",
    "        \"model_id\": MODEL_ID,\n",
    "        \"input\": user_query,\n",
    "        \"parameters\": {\"max_new_tokens\": 300}\n",
    "    }\n",
    "    response = requests.post(url, headers=headers, json=payload)\n",
    "    return response.json()[\"results\"][0][\"generated_text\"]\n",
    "\n",
    "# ====== TEST QUERY ======\n",
    "query = \"What is the eligibility for BBA in India?\"\n",
    "answer = ask_college_agent(query)\n",
    "print(\"🤖 AI Response:\\n\", answer)"
   ]
  }
 ],
 "metadata": {
  "kernelspec": {
   "display_name": "Python 3",
   "language": "python",
   "name": "python3"
  }
 },
 "nbformat": 4,
 "nbformat_minor": 5
}
